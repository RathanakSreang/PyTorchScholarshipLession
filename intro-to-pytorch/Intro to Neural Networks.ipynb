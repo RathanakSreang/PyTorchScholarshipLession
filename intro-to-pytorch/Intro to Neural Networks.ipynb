{
 "cells": [
  {
   "cell_type": "code",
   "execution_count": 2,
   "metadata": {},
   "outputs": [
    {
     "data": {
      "text/plain": [
       "'0.4.1'"
      ]
     },
     "execution_count": 2,
     "metadata": {},
     "output_type": "execute_result"
    }
   ],
   "source": [
    "# First import torch\n",
    "import torch\n",
    "torch.__version__"
   ]
  },
  {
   "cell_type": "code",
   "execution_count": 2,
   "metadata": {
    "collapsed": true
   },
   "outputs": [],
   "source": [
    "def activation(x):\n",
    "    \"\"\"Sigmoid activation\"\"\"\n",
    "    return 1/ (1 + torch.exp(-x))"
   ]
  },
  {
   "cell_type": "code",
   "execution_count": 26,
   "metadata": {},
   "outputs": [
    {
     "name": "stdout",
     "output_type": "stream",
     "text": [
      "tensor([[-0.1468,  0.7861,  0.9468, -1.1143,  1.6908]])\n",
      "tensor([[0.2868, 0.2063, 0.4451, 0.3593, 0.7204]])\n",
      "tensor([[0.0731]])\n"
     ]
    }
   ],
   "source": [
    "# Generate some data\n",
    "torch.manual_seed(7)# Set random seed so it can predictable\n",
    "\n",
    "#features\n",
    "features = torch.randn((1,5))\n",
    "print(features)\n",
    "#weights\n",
    "weights = torch.rand_like(features)\n",
    "print(weights)\n",
    "#bias\n",
    "bias = torch.rand((1,1))\n",
    "print(bias)"
   ]
  },
  {
   "cell_type": "code",
   "execution_count": 27,
   "metadata": {},
   "outputs": [
    {
     "name": "stdout",
     "output_type": "stream",
     "text": [
      "tensor([[0.8072]])\n",
      "tensor([[0.8072]])\n"
     ]
    }
   ],
   "source": [
    "y = activation(torch.sum(features*weights) + bias)\n",
    "print(y)\n",
    "y = activation((features*weights).sum() + bias)\n",
    "print(y)"
   ]
  },
  {
   "cell_type": "code",
   "execution_count": 42,
   "metadata": {},
   "outputs": [
    {
     "name": "stdout",
     "output_type": "stream",
     "text": [
      "torch.Size([1, 5])\n",
      "tensor([[0.2868, 0.2063, 0.4451, 0.3593, 0.7204]])\n",
      "tensor([[0.2868],\n",
      "        [0.2063],\n",
      "        [0.4451],\n",
      "        [0.3593],\n",
      "        [0.7204]])\n",
      "tensor([[0.2868],\n",
      "        [0.2063],\n",
      "        [0.4451],\n",
      "        [0.3593],\n",
      "        [0.7204]])\n",
      "tensor([[0.8072]])\n"
     ]
    }
   ],
   "source": [
    "#torch.mm(features, weights)\n",
    "\n",
    "# get feature shape\n",
    "print(features.shape)\n",
    "# reshape weights\n",
    "print(weights)\n",
    "print(weights.reshape(5,1))\n",
    "#print(weights.resize_(5,1))\n",
    "print(weights.view(5,1))# recommended one\n",
    "\n",
    "y = activation(torch.sum(torch.mm(features, weights.view(5,1))) + bias)\n",
    "print(y)"
   ]
  },
  {
   "cell_type": "code",
   "execution_count": 45,
   "metadata": {},
   "outputs": [
    {
     "name": "stdout",
     "output_type": "stream",
     "text": [
      "tensor([[-0.1468,  0.7861,  0.9468]])\n",
      "3\n",
      "tensor([[-1.1143,  1.6908],\n",
      "        [-0.8948, -0.3556],\n",
      "        [ 1.2324,  0.1382]])\n",
      "tensor([[-1.6822],\n",
      "        [ 0.3177]])\n",
      "tensor([[0.1328, 0.1373]])\n",
      "tensor([[0.2405]])\n"
     ]
    }
   ],
   "source": [
    "# Multi layer NN\n",
    "#generate sample data\n",
    "torch.manual_seed(7) #random that predictable\n",
    "\n",
    "#features (of 3)\n",
    "features = torch.randn((1,3))\n",
    "print(features)\n",
    "#defince the size of each layer in NN\n",
    "n_input = features.shape[1] #number of input unit\n",
    "n_hidden = 2\n",
    "n_output = 1\n",
    "print(n_input)\n",
    "\n",
    "#weight for input  hidden layer\n",
    "W1 = torch.randn(n_input, n_hidden)\n",
    "W2 = torch.randn(n_hidden, n_output)\n",
    "print(W1)\n",
    "print(W2)\n",
    "\n",
    "#bias \n",
    "B1 = torch.randn((1, n_hidden))\n",
    "B2 = torch.randn((1, n_output))\n",
    "print(B1)\n",
    "print(B2)\n"
   ]
  },
  {
   "cell_type": "code",
   "execution_count": 46,
   "metadata": {},
   "outputs": [
    {
     "name": "stdout",
     "output_type": "stream",
     "text": [
      "tensor([[0.3171]])\n"
     ]
    }
   ],
   "source": [
    "# calculate n layer multi\n",
    "h = activation(torch.mm(features, W1) + B1)\n",
    "output = activation(torch.mm(h, W2) + B2)\n",
    "print(output)"
   ]
  },
  {
   "cell_type": "code",
   "execution_count": 47,
   "metadata": {},
   "outputs": [
    {
     "data": {
      "text/plain": [
       "array([[ 0.18262585,  0.45328796,  0.87750313],\n",
       "       [ 0.96311394,  0.58370017,  0.31751897],\n",
       "       [ 0.7276381 ,  0.04311922,  0.62620105],\n",
       "       [ 0.74497737,  0.26965519,  0.95155561]])"
      ]
     },
     "execution_count": 47,
     "metadata": {},
     "output_type": "execute_result"
    }
   ],
   "source": [
    "# Torch to numpy and back\n",
    "import numpy as np\n",
    "a = np.random.rand(4,3)\n",
    "a"
   ]
  },
  {
   "cell_type": "code",
   "execution_count": 48,
   "metadata": {},
   "outputs": [
    {
     "data": {
      "text/plain": [
       "tensor([[0.1826, 0.4533, 0.8775],\n",
       "        [0.9631, 0.5837, 0.3175],\n",
       "        [0.7276, 0.0431, 0.6262],\n",
       "        [0.7450, 0.2697, 0.9516]], dtype=torch.float64)"
      ]
     },
     "execution_count": 48,
     "metadata": {},
     "output_type": "execute_result"
    }
   ],
   "source": [
    "b = torch.from_numpy(a)\n",
    "b"
   ]
  },
  {
   "cell_type": "code",
   "execution_count": 53,
   "metadata": {},
   "outputs": [
    {
     "data": {
      "text/plain": [
       "tensor([[0.7305, 1.8132, 3.5100],\n",
       "        [3.8525, 2.3348, 1.2701],\n",
       "        [2.9106, 0.1725, 2.5048],\n",
       "        [2.9799, 1.0786, 3.8062]], dtype=torch.float64)"
      ]
     },
     "execution_count": 53,
     "metadata": {},
     "output_type": "execute_result"
    }
   ],
   "source": [
    "#multi torch by 2, in place operation\n",
    "b.mul_(2)\n",
    "b"
   ]
  },
  {
   "cell_type": "code",
   "execution_count": 54,
   "metadata": {},
   "outputs": [
    {
     "data": {
      "text/plain": [
       "array([[ 0.73050341,  1.81315186,  3.5100125 ],\n",
       "       [ 3.85245576,  2.33480066,  1.27007587],\n",
       "       [ 2.9105524 ,  0.1724769 ,  2.50480419],\n",
       "       [ 2.97990948,  1.07862077,  3.80622243]])"
      ]
     },
     "execution_count": 54,
     "metadata": {},
     "output_type": "execute_result"
    }
   ],
   "source": [
    "# a valute also change\n",
    "a"
   ]
  }
 ],
 "metadata": {
  "kernelspec": {
   "display_name": "Python 3",
   "language": "python",
   "name": "python3"
  },
  "language_info": {
   "codemirror_mode": {
    "name": "ipython",
    "version": 3
   },
   "file_extension": ".py",
   "mimetype": "text/x-python",
   "name": "python",
   "nbconvert_exporter": "python",
   "pygments_lexer": "ipython3",
   "version": "3.6.5"
  }
 },
 "nbformat": 4,
 "nbformat_minor": 2
}
