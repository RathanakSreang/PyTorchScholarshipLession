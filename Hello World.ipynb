{
 "cells": [
  {
   "cell_type": "code",
   "execution_count": 3,
   "metadata": {},
   "outputs": [
    {
     "name": "stdout",
     "output_type": "stream",
     "text": [
      "Hello World\n",
      "tensor([[0.3218, 0.8562, 0.6203],\n",
      "        [0.0151, 0.5963, 0.9833],\n",
      "        [0.0243, 0.7796, 0.7728],\n",
      "        [0.4664, 0.1172, 0.9693],\n",
      "        [0.3043, 0.6412, 0.8283]])\n"
     ]
    },
    {
     "data": {
      "text/plain": [
       "False"
      ]
     },
     "execution_count": 3,
     "metadata": {},
     "output_type": "execute_result"
    }
   ],
   "source": [
    "print('Hello World')\n",
    "from __future__ import print_function\n",
    "import torch\n",
    "x = torch.rand(5, 3)\n",
    "print(x)\n",
    "torch.cuda.is_available()"
   ]
  },
  {
   "cell_type": "code",
   "execution_count": null,
   "metadata": {
    "collapsed": true
   },
   "outputs": [],
   "source": []
  },
  {
   "cell_type": "code",
   "execution_count": 5,
   "metadata": {},
   "outputs": [
    {
     "name": "stdout",
     "output_type": "stream",
     "text": [
      "tensor([[ 0.0000,  0.0000, -0.0000],\n",
      "        [ 0.0000,  0.0000,  0.0000],\n",
      "        [ 0.0000,  0.0000,  0.0000],\n",
      "        [ 0.0000,  0.0000,  0.0000],\n",
      "        [ 0.0000,  0.0000, -0.0000]])\n"
     ]
    }
   ],
   "source": [
    "# create empty matrix(5x3)\n",
    "x = torch.empty(5,3)\n",
    "print(x)"
   ]
  },
  {
   "cell_type": "code",
   "execution_count": 6,
   "metadata": {},
   "outputs": [
    {
     "name": "stdout",
     "output_type": "stream",
     "text": [
      "tensor([[0.3282, 0.1871, 0.0882],\n",
      "        [0.5953, 0.1108, 0.0410],\n",
      "        [0.9958, 0.7133, 0.4293],\n",
      "        [0.3072, 0.7386, 0.2411],\n",
      "        [0.7703, 0.2735, 0.9469]])\n"
     ]
    }
   ],
   "source": [
    "# construct rand matrix\n",
    "ran = torch.rand(5,3)\n",
    "print(ran)"
   ]
  },
  {
   "cell_type": "code",
   "execution_count": 8,
   "metadata": {},
   "outputs": [
    {
     "name": "stdout",
     "output_type": "stream",
     "text": [
      "tensor([[0, 0, 0],\n",
      "        [0, 0, 0],\n",
      "        [0, 0, 0],\n",
      "        [0, 0, 0],\n",
      "        [0, 0, 0]])\n"
     ]
    }
   ],
   "source": [
    "# init matrix with dtype\n",
    "x = torch.zeros(5,3, dtype=torch.long)\n",
    "print(x)"
   ]
  },
  {
   "cell_type": "code",
   "execution_count": 9,
   "metadata": {},
   "outputs": [
    {
     "name": "stdout",
     "output_type": "stream",
     "text": [
      "tensor([5.5000, 3.0000])\n"
     ]
    }
   ],
   "source": [
    "# contruct direct from data\n",
    "x = torch.tensor([5.5, 3])\n",
    "print(x)"
   ]
  },
  {
   "cell_type": "code",
   "execution_count": 10,
   "metadata": {},
   "outputs": [
    {
     "name": "stdout",
     "output_type": "stream",
     "text": [
      "torch.Size([2])\n"
     ]
    }
   ],
   "source": [
    "print(x.size())"
   ]
  },
  {
   "cell_type": "code",
   "execution_count": 15,
   "metadata": {},
   "outputs": [
    {
     "name": "stdout",
     "output_type": "stream",
     "text": [
      "tensor([[0.4772, 0.6058],\n",
      "        [0.0071, 0.5140]])\n",
      "tensor([[0.5554, 0.8274],\n",
      "        [0.5888, 0.2612]])\n",
      "tensor([[1.0326, 1.4332],\n",
      "        [0.5960, 0.7753]])\n",
      "tensor([[1.0326, 1.4332],\n",
      "        [0.5960, 0.7753]])\n",
      "tensor([[ 0.0000e+00,  4.6566e-10],\n",
      "        [-2.4594e-36,  8.5920e+09]])\n",
      "tensor([[1.0326, 1.4332],\n",
      "        [0.5960, 0.7753]])\n",
      "tensor([[1.0326, 1.4332],\n",
      "        [0.5960, 0.7753]])\n"
     ]
    }
   ],
   "source": [
    "# operation\n",
    "a = torch.rand(2,2)\n",
    "b = torch.rand(2,2)\n",
    "print(a)\n",
    "print(b)\n",
    "print(a+b)\n",
    "print(torch.add(a,b))\n",
    "\n",
    "result = torch.empty(2,2)\n",
    "print(result)\n",
    "print(torch.add(a,b, out=result))\n",
    "print(result)"
   ]
  }
 ],
 "metadata": {
  "kernelspec": {
   "display_name": "Python 3",
   "language": "python",
   "name": "python3"
  },
  "language_info": {
   "codemirror_mode": {
    "name": "ipython",
    "version": 3
   },
   "file_extension": ".py",
   "mimetype": "text/x-python",
   "name": "python",
   "nbconvert_exporter": "python",
   "pygments_lexer": "ipython3",
   "version": "3.6.5"
  }
 },
 "nbformat": 4,
 "nbformat_minor": 2
}
